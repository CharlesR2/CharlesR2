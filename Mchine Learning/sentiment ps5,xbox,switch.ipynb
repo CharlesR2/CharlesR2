{
 "cells": [
  {
   "cell_type": "markdown",
   "id": "dc53cd23",
   "metadata": {},
   "source": [
    "# PS5, XBOX SERIES X, Nintendo Switch Sentiment Analysis"
   ]
  },
  {
   "cell_type": "markdown",
   "id": "47864551",
   "metadata": {},
   "source": [
    "# Getting data"
   ]
  },
  {
   "cell_type": "code",
   "execution_count": 1,
   "id": "9407f879",
   "metadata": {},
   "outputs": [],
   "source": [
    "import snscrape.modules.reddit as sn\n",
    "import tqdm.notebook as tqdm\n",
    "import numpy as np\n",
    "import pandas as pd"
   ]
  },
  {
   "cell_type": "code",
   "execution_count": 2,
   "id": "292213f1",
   "metadata": {},
   "outputs": [],
   "source": [
    "ps5 = sn.RedditSearchScraper(\"Playstation 5\")\n",
    "xbox = sn.RedditSearchScraper(\"Xbox series X\")\n",
    "switch =  sn.RedditSearchScraper(\"Nintendo Switch\")"
   ]
  },
  {
   "cell_type": "code",
   "execution_count": 3,
   "id": "beb706a3",
   "metadata": {},
   "outputs": [],
   "source": [
    "ps5comments = []\n",
    "for i,comment in enumerate(ps5.get_items()):\n",
    "    try:\n",
    "        ps5comments.append(comment.body)\n",
    "    except:\n",
    "        ps5comments.append(np.nan)\n",
    "    if i > 8000:\n",
    "        break\n",
    "xboxcomments = []\n",
    "for i,comment in enumerate(ps5.get_items()):\n",
    "    try:\n",
    "        xboxcomments.append(comment.body)\n",
    "    except:\n",
    "        xboxcomments.append(np.nan)\n",
    "    if i > 8000:\n",
    "        break\n",
    "switchcomments = []\n",
    "for i,comment in enumerate(switch.get_items()):\n",
    "    try:\n",
    "        switchcomments.append(comment.body)\n",
    "    except:\n",
    "        switchcomments.append(np.nan)\n",
    "    if i > 8000:\n",
    "        break\n",
    "    "
   ]
  },
  {
   "cell_type": "code",
   "execution_count": 4,
   "id": "b72df5b9",
   "metadata": {},
   "outputs": [],
   "source": [
    "df = pd.DataFrame([switchcomments,ps5comments,xboxcomments]).T\n",
    "df.rename(columns={0:\"switch\",1:\"ps5\",2:\"xbox\"},inplace=True)"
   ]
  },
  {
   "cell_type": "markdown",
   "id": "43f9dec3",
   "metadata": {},
   "source": [
    "# Cleaning data"
   ]
  },
  {
   "cell_type": "markdown",
   "id": "8b0c291c",
   "metadata": {},
   "source": [
    "#### Removing ads"
   ]
  },
  {
   "cell_type": "code",
   "execution_count": 5,
   "id": "ed47c72e",
   "metadata": {},
   "outputs": [],
   "source": [
    "df = df.applymap(lambda x: x if isinstance(x, str) and x.find('https://')==-1 else np.nan)\n"
   ]
  },
  {
   "cell_type": "code",
   "execution_count": 6,
   "id": "c2956db8",
   "metadata": {},
   "outputs": [],
   "source": [
    "def missing (df1):\n",
    "    missing_number = df1.isnull().sum().sort_values(ascending=False)\n",
    "    missing_percent = ((df1.isnull().sum()/df1.isnull().count())*100).sort_values(ascending=False)\n",
    "    missing_values = pd.concat([missing_number, missing_percent], axis=1, keys=['Missing_Number', 'Missing_Percent'])\n",
    "    return missing_values"
   ]
  },
  {
   "cell_type": "code",
   "execution_count": 14,
   "id": "543cf0de",
   "metadata": {
    "scrolled": true
   },
   "outputs": [
    {
     "data": {
      "text/html": [
       "<div>\n",
       "<style scoped>\n",
       "    .dataframe tbody tr th:only-of-type {\n",
       "        vertical-align: middle;\n",
       "    }\n",
       "\n",
       "    .dataframe tbody tr th {\n",
       "        vertical-align: top;\n",
       "    }\n",
       "\n",
       "    .dataframe thead th {\n",
       "        text-align: right;\n",
       "    }\n",
       "</style>\n",
       "<table border=\"1\" class=\"dataframe\">\n",
       "  <thead>\n",
       "    <tr style=\"text-align: right;\">\n",
       "      <th></th>\n",
       "      <th>Missing_Number</th>\n",
       "      <th>Missing_Percent</th>\n",
       "    </tr>\n",
       "  </thead>\n",
       "  <tbody>\n",
       "    <tr>\n",
       "      <th>ps5</th>\n",
       "      <td>5291</td>\n",
       "      <td>66.120970</td>\n",
       "    </tr>\n",
       "    <tr>\n",
       "      <th>xbox</th>\n",
       "      <td>5291</td>\n",
       "      <td>66.120970</td>\n",
       "    </tr>\n",
       "    <tr>\n",
       "      <th>switch</th>\n",
       "      <td>3927</td>\n",
       "      <td>49.075231</td>\n",
       "    </tr>\n",
       "  </tbody>\n",
       "</table>\n",
       "</div>"
      ],
      "text/plain": [
       "        Missing_Number  Missing_Percent\n",
       "ps5               5291        66.120970\n",
       "xbox              5291        66.120970\n",
       "switch            3927        49.075231"
      ]
     },
     "execution_count": 14,
     "metadata": {},
     "output_type": "execute_result"
    }
   ],
   "source": [
    "missing(df)"
   ]
  },
  {
   "cell_type": "code",
   "execution_count": 15,
   "id": "eb321490",
   "metadata": {
    "scrolled": true
   },
   "outputs": [
    {
     "name": "stdout",
     "output_type": "stream",
     "text": [
      "<class 'pandas.core.frame.DataFrame'>\n",
      "RangeIndex: 8002 entries, 0 to 8001\n",
      "Data columns (total 3 columns):\n",
      " #   Column  Non-Null Count  Dtype \n",
      "---  ------  --------------  ----- \n",
      " 0   switch  4075 non-null   object\n",
      " 1   ps5     2711 non-null   object\n",
      " 2   xbox    2711 non-null   object\n",
      "dtypes: object(3)\n",
      "memory usage: 187.7+ KB\n"
     ]
    }
   ],
   "source": [
    "df.info()"
   ]
  },
  {
   "cell_type": "markdown",
   "id": "eefa800a",
   "metadata": {},
   "source": [
    "#### Creating three dataframes to label independently"
   ]
  },
  {
   "cell_type": "code",
   "execution_count": 12,
   "id": "986a5c7b",
   "metadata": {},
   "outputs": [],
   "source": [
    "switch = df['switch'].to_frame()\n",
    "xbox = df['xbox'].to_frame()\n",
    "ps5 = df['ps5'].to_frame()\n",
    "ps5 = ps5.dropna()\n",
    "xbox=xbox.dropna()\n",
    "switch = switch.dropna()"
   ]
  },
  {
   "cell_type": "code",
   "execution_count": 21,
   "id": "139063b3",
   "metadata": {},
   "outputs": [],
   "source": [
    "switch = switch.iloc[0:2711,:]"
   ]
  },
  {
   "cell_type": "markdown",
   "id": "4bd9e85a",
   "metadata": {},
   "source": [
    "# Labeling Sentiment"
   ]
  },
  {
   "cell_type": "code",
   "execution_count": 7,
   "id": "3a7f6520",
   "metadata": {},
   "outputs": [],
   "source": [
    "switch['switch'] = switch['switch'].str[:512]\n",
    "ps5['ps5'] = ps5['ps5'].str[:512]\n",
    "xbox['xbox'] = xbox['xbox'].str[:512]\n"
   ]
  },
  {
   "cell_type": "code",
   "execution_count": 19,
   "id": "3f2b2ff7",
   "metadata": {},
   "outputs": [],
   "source": [
    "switch = switch.iloc[:1000]\n",
    "\n",
    "ps5 = ps5.iloc[:1000]\n",
    "\n",
    "xbox = xbox.iloc[:1000]"
   ]
  },
  {
   "cell_type": "code",
   "execution_count": 2,
   "id": "0f93df05",
   "metadata": {},
   "outputs": [],
   "source": [
    "import snscrape.modules.twitter as sn\n",
    "import pandas as pd\n",
    "import numpy as np\n",
    "from tqdm.notebook import tqdm\n",
    "import datetime as datetime\n",
    "from transformers import AutoTokenizer,AutoModelForSequenceClassification\n",
    "import torch"
   ]
  },
  {
   "cell_type": "code",
   "execution_count": 7,
   "id": "6efebb8d",
   "metadata": {},
   "outputs": [],
   "source": [
    "tokenizer = AutoTokenizer.from_pretrained('nlptown/bert-base-multilingual-uncased-sentiment')\n",
    "\n",
    "model = AutoModelForSequenceClassification.from_pretrained('nlptown/bert-base-multilingual-uncased-sentiment')"
   ]
  },
  {
   "cell_type": "code",
   "execution_count": 8,
   "id": "57070e5a",
   "metadata": {
    "scrolled": true
   },
   "outputs": [
    {
     "data": {
      "application/vnd.jupyter.widget-view+json": {
       "model_id": "ba89a02348764ac7ada1e0b7dc33ea61",
       "version_major": 2,
       "version_minor": 0
      },
      "text/plain": [
       "  0%|          | 0/1000 [00:00<?, ?it/s]"
      ]
     },
     "metadata": {},
     "output_type": "display_data"
    },
    {
     "data": {
      "application/vnd.jupyter.widget-view+json": {
       "model_id": "3c582c41859845d5b081b2ffe8cd1b8f",
       "version_major": 2,
       "version_minor": 0
      },
      "text/plain": [
       "0it [00:00, ?it/s]"
      ]
     },
     "metadata": {},
     "output_type": "display_data"
    },
    {
     "data": {
      "application/vnd.jupyter.widget-view+json": {
       "model_id": "21cb13ed0817412cabc35d132750f953",
       "version_major": 2,
       "version_minor": 0
      },
      "text/plain": [
       "  0%|          | 0/1000 [00:00<?, ?it/s]"
      ]
     },
     "metadata": {},
     "output_type": "display_data"
    }
   ],
   "source": [
    "tokens = []\n",
    "for i in tqdm(range(len(xbox.xbox))):\n",
    "    tokens.append(tokenizer.encode(list(xbox.xbox)[i],return_tensors='pt'))\n",
    "results = []\n",
    "    # Iterate over the tensors\n",
    "for i,n in tqdm(enumerate(tokens)):\n",
    "    # Get the result from the model\n",
    "    result = model(tokens[i])\n",
    "    results.append(result.logits)\n",
    "ratings =[]\n",
    "for i in tqdm(range(len(results))):\n",
    "    ratings.append(torch.argmax(results[i]))\n",
    "xbox['rating'] = ratings"
   ]
  },
  {
   "cell_type": "code",
   "execution_count": 3,
   "id": "471da518",
   "metadata": {},
   "outputs": [
    {
     "name": "stderr",
     "output_type": "stream",
     "text": [
      "C:\\Users\\charl.DESKTOP-E4F6RTP\\AppData\\Local\\Temp\\ipykernel_26100\\2753348029.py:1: FutureWarning: The default value of regex will change from True to False in a future version. In addition, single character regular expressions will *not* be treated as literal strings when regex=True.\n",
      "  switch.rating = switch.rating.str.replace(\"tensor\",'').str.replace(\")\",\"\").str.replace('(',\"\").astype(\"int\")\n",
      "C:\\Users\\charl.DESKTOP-E4F6RTP\\AppData\\Local\\Temp\\ipykernel_26100\\2753348029.py:2: FutureWarning: The default value of regex will change from True to False in a future version. In addition, single character regular expressions will *not* be treated as literal strings when regex=True.\n",
      "  xbox.rating = xbox.rating.str.replace(\"tensor\",'').str.replace(\")\",\"\").str.replace('(',\"\").astype(\"int\")\n",
      "C:\\Users\\charl.DESKTOP-E4F6RTP\\AppData\\Local\\Temp\\ipykernel_26100\\2753348029.py:3: FutureWarning: The default value of regex will change from True to False in a future version. In addition, single character regular expressions will *not* be treated as literal strings when regex=True.\n",
      "  ps5.rating = ps5.rating.str.replace(\"tensor\",'').str.replace(\")\",\"\").str.replace('(',\"\").astype(\"int\")\n"
     ]
    }
   ],
   "source": [
    "switch.rating = switch.rating.str.replace(\"tensor\",'').str.replace(\")\",\"\").str.replace('(',\"\").astype(\"int\")\n",
    "xbox.rating = xbox.rating.str.replace(\"tensor\",'').str.replace(\")\",\"\").str.replace('(',\"\").astype(\"int\")\n",
    "ps5.rating = ps5.rating.str.replace(\"tensor\",'').str.replace(\")\",\"\").str.replace('(',\"\").astype(\"int\")\n",
    "ps5['console'] = 'PS5'\n",
    "xbox['console'] = 'XboxS1'\n",
    "switch['console'] = 'Switch'\n",
    "switch.rename(columns={'switch':'comment'},inplace=True)\n",
    "xbox.rename(columns={'xbox':'comment'},inplace=True)\n",
    "ps5.rename(columns={'ps5':'comment'},inplace=True)\n",
    "df = pd.concat((switch,ps5,xbox)).iloc[:,:3]"
   ]
  },
  {
   "cell_type": "markdown",
   "id": "142a285a",
   "metadata": {},
   "source": [
    "# Visualization "
   ]
  },
  {
   "cell_type": "code",
   "execution_count": 4,
   "id": "9a4a9469",
   "metadata": {},
   "outputs": [],
   "source": [
    "import seaborn as sns\n",
    "import matplotlib.pyplot as plt"
   ]
  },
  {
   "cell_type": "code",
   "execution_count": 11,
   "id": "93b9a79f",
   "metadata": {},
   "outputs": [
    {
     "data": {
      "text/html": [
       "<div>\n",
       "<style scoped>\n",
       "    .dataframe tbody tr th:only-of-type {\n",
       "        vertical-align: middle;\n",
       "    }\n",
       "\n",
       "    .dataframe tbody tr th {\n",
       "        vertical-align: top;\n",
       "    }\n",
       "\n",
       "    .dataframe thead th {\n",
       "        text-align: right;\n",
       "    }\n",
       "</style>\n",
       "<table border=\"1\" class=\"dataframe\">\n",
       "  <thead>\n",
       "    <tr style=\"text-align: right;\">\n",
       "      <th></th>\n",
       "      <th>comment</th>\n",
       "      <th>rating</th>\n",
       "      <th>console</th>\n",
       "    </tr>\n",
       "  </thead>\n",
       "  <tbody>\n",
       "    <tr>\n",
       "      <th>0</th>\n",
       "      <td>Counterpoint: the third parties who make games...</td>\n",
       "      <td>2</td>\n",
       "      <td>Switch</td>\n",
       "    </tr>\n",
       "    <tr>\n",
       "      <th>1</th>\n",
       "      <td>&amp;gt;Nintendo Switch is all set to get a succes...</td>\n",
       "      <td>0</td>\n",
       "      <td>Switch</td>\n",
       "    </tr>\n",
       "    <tr>\n",
       "      <th>2</th>\n",
       "      <td>Hi! Thank you for your submission to /r/Ninten...</td>\n",
       "      <td>2</td>\n",
       "      <td>Switch</td>\n",
       "    </tr>\n",
       "    <tr>\n",
       "      <th>3</th>\n",
       "      <td>I don't know. With Pokemon having just release...</td>\n",
       "      <td>1</td>\n",
       "      <td>Switch</td>\n",
       "    </tr>\n",
       "    <tr>\n",
       "      <th>4</th>\n",
       "      <td>Nintendo is about to send a cease and desist o...</td>\n",
       "      <td>0</td>\n",
       "      <td>Switch</td>\n",
       "    </tr>\n",
       "  </tbody>\n",
       "</table>\n",
       "</div>"
      ],
      "text/plain": [
       "                                             comment  rating console\n",
       "0  Counterpoint: the third parties who make games...       2  Switch\n",
       "1  &gt;Nintendo Switch is all set to get a succes...       0  Switch\n",
       "2  Hi! Thank you for your submission to /r/Ninten...       2  Switch\n",
       "3  I don't know. With Pokemon having just release...       1  Switch\n",
       "4  Nintendo is about to send a cease and desist o...       0  Switch"
      ]
     },
     "execution_count": 11,
     "metadata": {},
     "output_type": "execute_result"
    }
   ],
   "source": [
    "df.head()"
   ]
  },
  {
   "cell_type": "code",
   "execution_count": 25,
   "id": "3f0118cb",
   "metadata": {},
   "outputs": [
    {
     "data": {
      "image/png": "[encoded data removed]",
      "text/plain": [
       "<Figure size 1570x727 with 1 Axes>"
      ]
     },
     "metadata": {},
     "output_type": "display_data"
    }
   ],
   "source": [
    "colors = ['#002333','#DEEFE7','#B4BEC9']\n",
    "sns.set(rc={'figure.figsize':(15.7,7.27)})\n",
    "\n",
    "sns.despine(bottom = True, left = True)\n",
    "sns.set_style('white')\n",
    "ax = sns.violinplot(data=df,x=\"console\",y=\"rating\",jitter=True,palette=colors,linewidth=None,size = 1.5,dodge=True,order = ['PS5','XboxS1','Switch'])\n",
    "sns.boxplot(showmeans=True,\n",
    "            meanline=True,\n",
    "            medianprops={'visible': False},\n",
    "            meanprops={'color': \"#C52636\", 'ls': 'dashed', 'lw': 2},\n",
    "            whiskerprops={'visible': False},\n",
    "            zorder=10,\n",
    "            x=\"console\",\n",
    "            y=\"rating\",\n",
    "            data=df,\n",
    "            showfliers=False,\n",
    "            showbox=False,\n",
    "            showcaps=False,order = ['PS5','Xboxs1','Switch'])\n",
    "plt.axhline(df['rating'].mean(),color=\"#7E8082\",linestyle=\"--\",label='Mean Score')\n",
    "plt.ylim(top=4,bottom=0)\n",
    "plt.title(\"Sentiment -> 0 = Bad, 4 = Great\",fontsize=20)\n",
    "ax.set_ylabel('Sentiment')\n",
    "ax.set_xlabel(\"\")\n",
    "sns.despine(bottom = True, left = True)\n",
    "sns.set_style({'axes.facecolor':'white', 'grid.color': '.8', 'font.family':'century gothic'})\n",
    "plt.show()"
   ]
  },
  {
   "cell_type": "code",
   "execution_count": 18,
   "id": "2741f961",
   "metadata": {},
   "outputs": [
    {
     "data": {
      "text/html": [
       "<div>\n",
       "<style scoped>\n",
       "    .dataframe tbody tr th:only-of-type {\n",
       "        vertical-align: middle;\n",
       "    }\n",
       "\n",
       "    .dataframe tbody tr th {\n",
       "        vertical-align: top;\n",
       "    }\n",
       "\n",
       "    .dataframe thead th {\n",
       "        text-align: right;\n",
       "    }\n",
       "</style>\n",
       "<table border=\"1\" class=\"dataframe\">\n",
       "  <thead>\n",
       "    <tr style=\"text-align: right;\">\n",
       "      <th></th>\n",
       "      <th>rating</th>\n",
       "    </tr>\n",
       "  </thead>\n",
       "  <tbody>\n",
       "    <tr>\n",
       "      <th>count</th>\n",
       "      <td>3000.000000</td>\n",
       "    </tr>\n",
       "    <tr>\n",
       "      <th>mean</th>\n",
       "      <td>1.846667</td>\n",
       "    </tr>\n",
       "    <tr>\n",
       "      <th>std</th>\n",
       "      <td>1.396593</td>\n",
       "    </tr>\n",
       "    <tr>\n",
       "      <th>min</th>\n",
       "      <td>0.000000</td>\n",
       "    </tr>\n",
       "    <tr>\n",
       "      <th>25%</th>\n",
       "      <td>1.000000</td>\n",
       "    </tr>\n",
       "    <tr>\n",
       "      <th>50%</th>\n",
       "      <td>2.000000</td>\n",
       "    </tr>\n",
       "    <tr>\n",
       "      <th>75%</th>\n",
       "      <td>3.000000</td>\n",
       "    </tr>\n",
       "    <tr>\n",
       "      <th>max</th>\n",
       "      <td>4.000000</td>\n",
       "    </tr>\n",
       "  </tbody>\n",
       "</table>\n",
       "</div>"
      ],
      "text/plain": [
       "            rating\n",
       "count  3000.000000\n",
       "mean      1.846667\n",
       "std       1.396593\n",
       "min       0.000000\n",
       "25%       1.000000\n",
       "50%       2.000000\n",
       "75%       3.000000\n",
       "max       4.000000"
      ]
     },
     "execution_count": 18,
     "metadata": {},
     "output_type": "execute_result"
    }
   ],
   "source": [
    "df.describe()"
   ]
  },
  {
   "cell_type": "code",
   "execution_count": 20,
   "id": "df6d9815",
   "metadata": {
    "scrolled": true
   },
   "outputs": [
    {
     "data": {
      "text/html": [
       "<div>\n",
       "<style scoped>\n",
       "    .dataframe tbody tr th:only-of-type {\n",
       "        vertical-align: middle;\n",
       "    }\n",
       "\n",
       "    .dataframe tbody tr th {\n",
       "        vertical-align: top;\n",
       "    }\n",
       "\n",
       "    .dataframe thead th {\n",
       "        text-align: right;\n",
       "    }\n",
       "</style>\n",
       "<table border=\"1\" class=\"dataframe\">\n",
       "  <thead>\n",
       "    <tr style=\"text-align: right;\">\n",
       "      <th></th>\n",
       "      <th>count</th>\n",
       "      <th>mean</th>\n",
       "      <th>std</th>\n",
       "      <th>min</th>\n",
       "      <th>25%</th>\n",
       "      <th>50%</th>\n",
       "      <th>75%</th>\n",
       "      <th>max</th>\n",
       "    </tr>\n",
       "    <tr>\n",
       "      <th>console</th>\n",
       "      <th></th>\n",
       "      <th></th>\n",
       "      <th></th>\n",
       "      <th></th>\n",
       "      <th></th>\n",
       "      <th></th>\n",
       "      <th></th>\n",
       "      <th></th>\n",
       "    </tr>\n",
       "  </thead>\n",
       "  <tbody>\n",
       "    <tr>\n",
       "      <th>PS5</th>\n",
       "      <td>1000.0</td>\n",
       "      <td>1.842</td>\n",
       "      <td>1.416701</td>\n",
       "      <td>0.0</td>\n",
       "      <td>1.0</td>\n",
       "      <td>2.0</td>\n",
       "      <td>3.0</td>\n",
       "      <td>4.0</td>\n",
       "    </tr>\n",
       "    <tr>\n",
       "      <th>Switch</th>\n",
       "      <td>1000.0</td>\n",
       "      <td>1.850</td>\n",
       "      <td>1.381814</td>\n",
       "      <td>0.0</td>\n",
       "      <td>1.0</td>\n",
       "      <td>2.0</td>\n",
       "      <td>3.0</td>\n",
       "      <td>4.0</td>\n",
       "    </tr>\n",
       "    <tr>\n",
       "      <th>XboxS1</th>\n",
       "      <td>1000.0</td>\n",
       "      <td>1.848</td>\n",
       "      <td>1.392420</td>\n",
       "      <td>0.0</td>\n",
       "      <td>1.0</td>\n",
       "      <td>2.0</td>\n",
       "      <td>3.0</td>\n",
       "      <td>4.0</td>\n",
       "    </tr>\n",
       "  </tbody>\n",
       "</table>\n",
       "</div>"
      ],
      "text/plain": [
       "          count   mean       std  min  25%  50%  75%  max\n",
       "console                                                  \n",
       "PS5      1000.0  1.842  1.416701  0.0  1.0  2.0  3.0  4.0\n",
       "Switch   1000.0  1.850  1.381814  0.0  1.0  2.0  3.0  4.0\n",
       "XboxS1   1000.0  1.848  1.392420  0.0  1.0  2.0  3.0  4.0"
      ]
     },
     "execution_count": 20,
     "metadata": {},
     "output_type": "execute_result"
    }
   ],
   "source": [
    "df.groupby('console').rating.describe()"
   ]
  }
 ],
 "metadata": {
  "kernelspec": {
   "display_name": "Python 3 (ipykernel)",
   "language": "python",
   "name": "python3"
  },
  "language_info": {
   "codemirror_mode": {
    "name": "ipython",
    "version": 3
   },
   "file_extension": ".py",
   "mimetype": "text/x-python",
   "name": "python",
   "nbconvert_exporter": "python",
   "pygments_lexer": "ipython3",
   "version": "3.9.13"
  }
 },
 "nbformat": 4,
 "nbformat_minor": 5
}
